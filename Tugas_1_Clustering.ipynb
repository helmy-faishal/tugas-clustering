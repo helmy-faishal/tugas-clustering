{
  "nbformat": 4,
  "nbformat_minor": 0,
  "metadata": {
    "colab": {
      "name": "Tugas 1 - Clustering",
      "provenance": [],
      "collapsed_sections": []
    },
    "kernelspec": {
      "name": "python3",
      "display_name": "Python 3"
    },
    "language_info": {
      "name": "python"
    }
  },
  "cells": [
    {
      "cell_type": "markdown",
      "metadata": {
        "id": "thOvuc35CQcy"
      },
      "source": [
        "**Tugas 1 - Clustering**<br>\n",
        "Nama : Muhammad Helmy Faishal <br>\n",
        "NIM : 1301190400 <br>\n",
        "Kelas : IF-43-12"
      ]
    },
    {
      "cell_type": "markdown",
      "metadata": {
        "id": "6IeAx2Pk9L1r"
      },
      "source": [
        "# **Memuat Dataset**"
      ]
    },
    {
      "cell_type": "code",
      "metadata": {
        "id": "pgPHT5vX9Ei6"
      },
      "source": [
        "import pandas as pd"
      ],
      "execution_count": 1,
      "outputs": []
    },
    {
      "cell_type": "code",
      "metadata": {
        "colab": {
          "base_uri": "https://localhost:8080/",
          "height": 417
        },
        "id": "ikkM679w9Npy",
        "outputId": "a1d11bae-1191-4bcf-e4b7-f3ae7b4bf6d0"
      },
      "source": [
        "df = pd.read_csv(\"https://github.com/helmy-faishal/tugas-clustering/blob/main/kendaraan_train.csv?raw=true\")\n",
        "\n",
        "df"
      ],
      "execution_count": 2,
      "outputs": [
        {
          "output_type": "execute_result",
          "data": {
            "text/html": [
              "<div>\n",
              "<style scoped>\n",
              "    .dataframe tbody tr th:only-of-type {\n",
              "        vertical-align: middle;\n",
              "    }\n",
              "\n",
              "    .dataframe tbody tr th {\n",
              "        vertical-align: top;\n",
              "    }\n",
              "\n",
              "    .dataframe thead th {\n",
              "        text-align: right;\n",
              "    }\n",
              "</style>\n",
              "<table border=\"1\" class=\"dataframe\">\n",
              "  <thead>\n",
              "    <tr style=\"text-align: right;\">\n",
              "      <th></th>\n",
              "      <th>id</th>\n",
              "      <th>Jenis_Kelamin</th>\n",
              "      <th>Umur</th>\n",
              "      <th>SIM</th>\n",
              "      <th>Kode_Daerah</th>\n",
              "      <th>Sudah_Asuransi</th>\n",
              "      <th>Umur_Kendaraan</th>\n",
              "      <th>Kendaraan_Rusak</th>\n",
              "      <th>Premi</th>\n",
              "      <th>Kanal_Penjualan</th>\n",
              "      <th>Lama_Berlangganan</th>\n",
              "      <th>Tertarik</th>\n",
              "    </tr>\n",
              "  </thead>\n",
              "  <tbody>\n",
              "    <tr>\n",
              "      <th>0</th>\n",
              "      <td>1</td>\n",
              "      <td>Wanita</td>\n",
              "      <td>30.0</td>\n",
              "      <td>1.0</td>\n",
              "      <td>33.0</td>\n",
              "      <td>1.0</td>\n",
              "      <td>&lt; 1 Tahun</td>\n",
              "      <td>Tidak</td>\n",
              "      <td>28029.0</td>\n",
              "      <td>152.0</td>\n",
              "      <td>97.0</td>\n",
              "      <td>0</td>\n",
              "    </tr>\n",
              "    <tr>\n",
              "      <th>1</th>\n",
              "      <td>2</td>\n",
              "      <td>Pria</td>\n",
              "      <td>48.0</td>\n",
              "      <td>1.0</td>\n",
              "      <td>39.0</td>\n",
              "      <td>0.0</td>\n",
              "      <td>&gt; 2 Tahun</td>\n",
              "      <td>Pernah</td>\n",
              "      <td>25800.0</td>\n",
              "      <td>29.0</td>\n",
              "      <td>158.0</td>\n",
              "      <td>0</td>\n",
              "    </tr>\n",
              "    <tr>\n",
              "      <th>2</th>\n",
              "      <td>3</td>\n",
              "      <td>NaN</td>\n",
              "      <td>21.0</td>\n",
              "      <td>1.0</td>\n",
              "      <td>46.0</td>\n",
              "      <td>1.0</td>\n",
              "      <td>&lt; 1 Tahun</td>\n",
              "      <td>Tidak</td>\n",
              "      <td>32733.0</td>\n",
              "      <td>160.0</td>\n",
              "      <td>119.0</td>\n",
              "      <td>0</td>\n",
              "    </tr>\n",
              "    <tr>\n",
              "      <th>3</th>\n",
              "      <td>4</td>\n",
              "      <td>Wanita</td>\n",
              "      <td>58.0</td>\n",
              "      <td>1.0</td>\n",
              "      <td>48.0</td>\n",
              "      <td>0.0</td>\n",
              "      <td>1-2 Tahun</td>\n",
              "      <td>Tidak</td>\n",
              "      <td>2630.0</td>\n",
              "      <td>124.0</td>\n",
              "      <td>63.0</td>\n",
              "      <td>0</td>\n",
              "    </tr>\n",
              "    <tr>\n",
              "      <th>4</th>\n",
              "      <td>5</td>\n",
              "      <td>Pria</td>\n",
              "      <td>50.0</td>\n",
              "      <td>1.0</td>\n",
              "      <td>35.0</td>\n",
              "      <td>0.0</td>\n",
              "      <td>&gt; 2 Tahun</td>\n",
              "      <td>NaN</td>\n",
              "      <td>34857.0</td>\n",
              "      <td>88.0</td>\n",
              "      <td>194.0</td>\n",
              "      <td>0</td>\n",
              "    </tr>\n",
              "    <tr>\n",
              "      <th>...</th>\n",
              "      <td>...</td>\n",
              "      <td>...</td>\n",
              "      <td>...</td>\n",
              "      <td>...</td>\n",
              "      <td>...</td>\n",
              "      <td>...</td>\n",
              "      <td>...</td>\n",
              "      <td>...</td>\n",
              "      <td>...</td>\n",
              "      <td>...</td>\n",
              "      <td>...</td>\n",
              "      <td>...</td>\n",
              "    </tr>\n",
              "    <tr>\n",
              "      <th>285826</th>\n",
              "      <td>285827</td>\n",
              "      <td>Wanita</td>\n",
              "      <td>23.0</td>\n",
              "      <td>1.0</td>\n",
              "      <td>4.0</td>\n",
              "      <td>1.0</td>\n",
              "      <td>&lt; 1 Tahun</td>\n",
              "      <td>Tidak</td>\n",
              "      <td>25988.0</td>\n",
              "      <td>152.0</td>\n",
              "      <td>217.0</td>\n",
              "      <td>0</td>\n",
              "    </tr>\n",
              "    <tr>\n",
              "      <th>285827</th>\n",
              "      <td>285828</td>\n",
              "      <td>Wanita</td>\n",
              "      <td>21.0</td>\n",
              "      <td>1.0</td>\n",
              "      <td>46.0</td>\n",
              "      <td>1.0</td>\n",
              "      <td>&lt; 1 Tahun</td>\n",
              "      <td>Tidak</td>\n",
              "      <td>44686.0</td>\n",
              "      <td>152.0</td>\n",
              "      <td>50.0</td>\n",
              "      <td>0</td>\n",
              "    </tr>\n",
              "    <tr>\n",
              "      <th>285828</th>\n",
              "      <td>285829</td>\n",
              "      <td>Wanita</td>\n",
              "      <td>23.0</td>\n",
              "      <td>1.0</td>\n",
              "      <td>50.0</td>\n",
              "      <td>1.0</td>\n",
              "      <td>&lt; 1 Tahun</td>\n",
              "      <td>Tidak</td>\n",
              "      <td>49751.0</td>\n",
              "      <td>152.0</td>\n",
              "      <td>226.0</td>\n",
              "      <td>0</td>\n",
              "    </tr>\n",
              "    <tr>\n",
              "      <th>285829</th>\n",
              "      <td>285830</td>\n",
              "      <td>Pria</td>\n",
              "      <td>68.0</td>\n",
              "      <td>1.0</td>\n",
              "      <td>7.0</td>\n",
              "      <td>1.0</td>\n",
              "      <td>1-2 Tahun</td>\n",
              "      <td>Tidak</td>\n",
              "      <td>30503.0</td>\n",
              "      <td>124.0</td>\n",
              "      <td>270.0</td>\n",
              "      <td>0</td>\n",
              "    </tr>\n",
              "    <tr>\n",
              "      <th>285830</th>\n",
              "      <td>285831</td>\n",
              "      <td>Pria</td>\n",
              "      <td>45.0</td>\n",
              "      <td>1.0</td>\n",
              "      <td>28.0</td>\n",
              "      <td>0.0</td>\n",
              "      <td>1-2 Tahun</td>\n",
              "      <td>Pernah</td>\n",
              "      <td>36480.0</td>\n",
              "      <td>26.0</td>\n",
              "      <td>44.0</td>\n",
              "      <td>0</td>\n",
              "    </tr>\n",
              "  </tbody>\n",
              "</table>\n",
              "<p>285831 rows × 12 columns</p>\n",
              "</div>"
            ],
            "text/plain": [
              "            id Jenis_Kelamin  ...  Lama_Berlangganan  Tertarik\n",
              "0            1        Wanita  ...               97.0         0\n",
              "1            2          Pria  ...              158.0         0\n",
              "2            3           NaN  ...              119.0         0\n",
              "3            4        Wanita  ...               63.0         0\n",
              "4            5          Pria  ...              194.0         0\n",
              "...        ...           ...  ...                ...       ...\n",
              "285826  285827        Wanita  ...              217.0         0\n",
              "285827  285828        Wanita  ...               50.0         0\n",
              "285828  285829        Wanita  ...              226.0         0\n",
              "285829  285830          Pria  ...              270.0         0\n",
              "285830  285831          Pria  ...               44.0         0\n",
              "\n",
              "[285831 rows x 12 columns]"
            ]
          },
          "metadata": {},
          "execution_count": 2
        }
      ]
    },
    {
      "cell_type": "markdown",
      "metadata": {
        "id": "PIcAVobK-AbV"
      },
      "source": [
        "Pada data diatas terlihat terdapat data yang kosong sehingga kita perlu memproses data terlebih dahulu agar data bisa digunakan"
      ]
    },
    {
      "cell_type": "markdown",
      "metadata": {
        "id": "TixklWbF9wz0"
      },
      "source": [
        "# **Pra-pemrosesan Data**"
      ]
    },
    {
      "cell_type": "markdown",
      "metadata": {
        "id": "PYhd43qA_ChT"
      },
      "source": [
        "##**Menangani Data yang Hilang**"
      ]
    },
    {
      "cell_type": "markdown",
      "metadata": {
        "id": "XSajmHGmdiGA"
      },
      "source": [
        "**Mengecek jumlah nilai kosong**"
      ]
    },
    {
      "cell_type": "code",
      "metadata": {
        "colab": {
          "base_uri": "https://localhost:8080/"
        },
        "id": "F9RoF7qU-SHc",
        "outputId": "82d66783-9ee4-4b22-b521-860cb49d5978"
      },
      "source": [
        "df.isnull().sum()"
      ],
      "execution_count": 3,
      "outputs": [
        {
          "output_type": "execute_result",
          "data": {
            "text/plain": [
              "id                       0\n",
              "Jenis_Kelamin        14440\n",
              "Umur                 14214\n",
              "SIM                  14404\n",
              "Kode_Daerah          14306\n",
              "Sudah_Asuransi       14229\n",
              "Umur_Kendaraan       14275\n",
              "Kendaraan_Rusak      14188\n",
              "Premi                14569\n",
              "Kanal_Penjualan      14299\n",
              "Lama_Berlangganan    13992\n",
              "Tertarik                 0\n",
              "dtype: int64"
            ]
          },
          "metadata": {},
          "execution_count": 3
        }
      ]
    },
    {
      "cell_type": "markdown",
      "metadata": {
        "id": "SmFJlyBH-eyE"
      },
      "source": [
        "Dari data diatas, terlihat hampir semua kolom memiliki data yang kosong"
      ]
    },
    {
      "cell_type": "markdown",
      "metadata": {
        "id": "YdmHjMds_gmr"
      },
      "source": [
        "### **Mengisi nilai yang kosong pada data \"SIM\"**"
      ]
    },
    {
      "cell_type": "markdown",
      "metadata": {
        "id": "5m-9X9w2_56b"
      },
      "source": [
        "Pada data SIM, nilainya memiliki definisi: <br>\n",
        "0 = Tidak Memiliki SIM <br>\n",
        "1 = Memiliki SIM <br>\n",
        "<br>\n",
        "Jika kita asumsikan bahwa data yang kosong mungkin saja karena para pelanggan tersebut memiliki SIM, namun SIM mereka hilang atau sudah tidak aktif lagi, maka kita dapat mengisi nilai yang kosong tersebut dengan nilai 0 karena saat ini mereka sedang tidak memiliki SIM yang dapat digunakan"
      ]
    },
    {
      "cell_type": "code",
      "metadata": {
        "id": "vNqIfYlU_lhC"
      },
      "source": [
        "df['SIM'].fillna(0,inplace=True)"
      ],
      "execution_count": 4,
      "outputs": []
    },
    {
      "cell_type": "code",
      "metadata": {
        "id": "bwyiU18YEUAq",
        "colab": {
          "base_uri": "https://localhost:8080/"
        },
        "outputId": "7a754c14-90ba-46f1-d07f-773dc9ef19c2"
      },
      "source": [
        "df[\"SIM\"].unique()"
      ],
      "execution_count": 5,
      "outputs": [
        {
          "output_type": "execute_result",
          "data": {
            "text/plain": [
              "array([1., 0.])"
            ]
          },
          "metadata": {},
          "execution_count": 5
        }
      ]
    },
    {
      "cell_type": "markdown",
      "metadata": {
        "id": "ucePpGOqJH0y"
      },
      "source": [
        "### **Mengisi nilai yang kosong pada data\"Sudah_Asuransi\"**"
      ]
    },
    {
      "cell_type": "markdown",
      "metadata": {
        "id": "hqR0tUIgJH0y"
      },
      "source": [
        "Pada data Sudah_Asuransi, nilainya memiliki definisi: <br>\n",
        "0 = Pelanggan belum memiliki asuransi kendaraan <br>\n",
        "1 = Pelanggan sudah memiliki asuransi kendaraan <br>\n",
        "<br>\n",
        "Jika kita asumsikan bahwa data yang kosong mungkin saja karena para pelanggan tersebut pernah memiliki asuransi kendaraan, namun asuransi tersebut sudah tidak aktif lagi, maka kita dapat mengisi nilai yang kosong tersebut dengan nilai 0 karena saat ini mereka sedang tidak memiliki asuransi kendaraan yang aktif"
      ]
    },
    {
      "cell_type": "code",
      "metadata": {
        "id": "aqVmY7fcJH0y"
      },
      "source": [
        "df['Sudah_Asuransi'].fillna(0,inplace=True)"
      ],
      "execution_count": 6,
      "outputs": []
    },
    {
      "cell_type": "code",
      "metadata": {
        "id": "djtxGmZaJH0y",
        "colab": {
          "base_uri": "https://localhost:8080/"
        },
        "outputId": "0287e5e7-bf64-4490-fcc8-c724fb490280"
      },
      "source": [
        "df[\"Sudah_Asuransi\"].unique()"
      ],
      "execution_count": 7,
      "outputs": [
        {
          "output_type": "execute_result",
          "data": {
            "text/plain": [
              "array([1., 0.])"
            ]
          },
          "metadata": {},
          "execution_count": 7
        }
      ]
    },
    {
      "cell_type": "markdown",
      "metadata": {
        "id": "kHpnbJgwBvCJ"
      },
      "source": [
        "### **Mengisi nilai yang kosong pada data \"Umur_Kendaraan\"**"
      ]
    },
    {
      "cell_type": "markdown",
      "metadata": {
        "id": "Y8EruLo3Cf07"
      },
      "source": [
        "Jika kita asumsikan bahwa data yang kosong tersebut karena tidak ada data mengenai umur kendaraan tersebut, maka dapat kita simpulkan bahwa mungkin saja umur kendaraan tersebut baru beberapa hari atau minggu atau bahkan kendaraan masih baru. <br> \n",
        "Berdasarkan asumsi tersebut, maka kita dapat mengisi nilai tersebut dengan \"< 1 Tahun\""
      ]
    },
    {
      "cell_type": "code",
      "metadata": {
        "id": "uEvYNNSOBuBs"
      },
      "source": [
        "df['Umur_Kendaraan'].fillna(\"< 1 Tahun\",inplace=True)"
      ],
      "execution_count": 8,
      "outputs": []
    },
    {
      "cell_type": "code",
      "metadata": {
        "id": "pUFgtb2HE0Wa",
        "colab": {
          "base_uri": "https://localhost:8080/"
        },
        "outputId": "adc250c9-2db5-4d44-8ffd-17e61d6be95b"
      },
      "source": [
        "df['Umur_Kendaraan'].unique()"
      ],
      "execution_count": 9,
      "outputs": [
        {
          "output_type": "execute_result",
          "data": {
            "text/plain": [
              "array(['< 1 Tahun', '> 2 Tahun', '1-2 Tahun'], dtype=object)"
            ]
          },
          "metadata": {},
          "execution_count": 9
        }
      ]
    },
    {
      "cell_type": "markdown",
      "metadata": {
        "id": "TAVgv-K4PDdK"
      },
      "source": [
        "### **Mengisi nilai yang kosong pada data \"Kendaraan_Rusak\"**"
      ]
    },
    {
      "cell_type": "markdown",
      "metadata": {
        "id": "0ug4Gh32PDdK"
      },
      "source": [
        "Jika kita asumsikan bahwa data yang kosong tersebut karena tidak ada catatan mengenai kerusakan pada kendaraan tersebut, maka dapat kita simpulkan bahwa mungkin saja kendaraan tersebut tidak pernah rusak sehingga kita dapat mengisi nilai tersebut dengan \"Tidak\""
      ]
    },
    {
      "cell_type": "code",
      "metadata": {
        "id": "2JULVifOPDdK"
      },
      "source": [
        "df['Kendaraan_Rusak'].fillna(\"Tidak\",inplace=True)"
      ],
      "execution_count": 10,
      "outputs": []
    },
    {
      "cell_type": "code",
      "metadata": {
        "id": "kLsy_9uYPDdK",
        "colab": {
          "base_uri": "https://localhost:8080/"
        },
        "outputId": "5b7b1dfa-63d2-45a8-fc88-cdbafdf80e6b"
      },
      "source": [
        "df['Kendaraan_Rusak'].unique()"
      ],
      "execution_count": 11,
      "outputs": [
        {
          "output_type": "execute_result",
          "data": {
            "text/plain": [
              "array(['Tidak', 'Pernah'], dtype=object)"
            ]
          },
          "metadata": {},
          "execution_count": 11
        }
      ]
    },
    {
      "cell_type": "markdown",
      "metadata": {
        "id": "sE31DnpKRUxO"
      },
      "source": [
        "### **Mengisi nilai yang kosong pada data lainnya**"
      ]
    },
    {
      "cell_type": "code",
      "metadata": {
        "colab": {
          "base_uri": "https://localhost:8080/"
        },
        "id": "3s5zFjD8RcXX",
        "outputId": "860080c6-f113-49f5-d29b-8a5e290a9e6e"
      },
      "source": [
        "df.isnull().sum()"
      ],
      "execution_count": 12,
      "outputs": [
        {
          "output_type": "execute_result",
          "data": {
            "text/plain": [
              "id                       0\n",
              "Jenis_Kelamin        14440\n",
              "Umur                 14214\n",
              "SIM                      0\n",
              "Kode_Daerah          14306\n",
              "Sudah_Asuransi           0\n",
              "Umur_Kendaraan           0\n",
              "Kendaraan_Rusak          0\n",
              "Premi                14569\n",
              "Kanal_Penjualan      14299\n",
              "Lama_Berlangganan    13992\n",
              "Tertarik                 0\n",
              "dtype: int64"
            ]
          },
          "metadata": {},
          "execution_count": 12
        }
      ]
    },
    {
      "cell_type": "markdown",
      "metadata": {
        "id": "JcFS9FePRovW"
      },
      "source": [
        "Berdasarkan data diatas, masih ada beberapa kolom yang memiliki data kosong<br>\n",
        "Oleh karena itu, kita akan mengisi data kosong tersebut dengan data terbanyak/most frequent menggunakan SimpleImputer dari sklearn"
      ]
    },
    {
      "cell_type": "code",
      "metadata": {
        "id": "9V0jefoITNe6"
      },
      "source": [
        "from sklearn.impute import SimpleImputer\n",
        "import numpy as np\n",
        "\n",
        "imputer = SimpleImputer(strategy='most_frequent', missing_values=np.nan)"
      ],
      "execution_count": 13,
      "outputs": []
    },
    {
      "cell_type": "code",
      "metadata": {
        "id": "FPv5uTZuRn8m"
      },
      "source": [
        "df['Jenis_Kelamin'] = imputer.fit_transform(df[['Jenis_Kelamin']])\n",
        "df['Umur'] = imputer.fit_transform(df[['Umur']])\n",
        "df['Kode_Daerah'] = imputer.fit_transform(df[['Kode_Daerah']])\n",
        "df['Premi'] = imputer.fit_transform(df[['Premi']])\n",
        "df['Kanal_Penjualan'] = imputer.fit_transform(df[['Kanal_Penjualan']])\n",
        "df['Lama_Berlangganan'] = imputer.fit_transform(df[['Lama_Berlangganan']])"
      ],
      "execution_count": 14,
      "outputs": []
    },
    {
      "cell_type": "code",
      "metadata": {
        "colab": {
          "base_uri": "https://localhost:8080/"
        },
        "id": "sb9nIlLNUtVq",
        "outputId": "59e5569a-2c54-4b27-821e-4aaa0e230648"
      },
      "source": [
        "df.isnull().sum()"
      ],
      "execution_count": 15,
      "outputs": [
        {
          "output_type": "execute_result",
          "data": {
            "text/plain": [
              "id                   0\n",
              "Jenis_Kelamin        0\n",
              "Umur                 0\n",
              "SIM                  0\n",
              "Kode_Daerah          0\n",
              "Sudah_Asuransi       0\n",
              "Umur_Kendaraan       0\n",
              "Kendaraan_Rusak      0\n",
              "Premi                0\n",
              "Kanal_Penjualan      0\n",
              "Lama_Berlangganan    0\n",
              "Tertarik             0\n",
              "dtype: int64"
            ]
          },
          "metadata": {},
          "execution_count": 15
        }
      ]
    },
    {
      "cell_type": "markdown",
      "metadata": {
        "id": "X1jzYIE6W6Lt"
      },
      "source": [
        "## **Menangani Data Outlier**"
      ]
    },
    {
      "cell_type": "code",
      "metadata": {
        "colab": {
          "base_uri": "https://localhost:8080/",
          "height": 295
        },
        "id": "3iov67OexiKX",
        "outputId": "a62a24d0-7573-4e29-b821-1e1fe98e77f7"
      },
      "source": [
        "df.describe()"
      ],
      "execution_count": 16,
      "outputs": [
        {
          "output_type": "execute_result",
          "data": {
            "text/html": [
              "<div>\n",
              "<style scoped>\n",
              "    .dataframe tbody tr th:only-of-type {\n",
              "        vertical-align: middle;\n",
              "    }\n",
              "\n",
              "    .dataframe tbody tr th {\n",
              "        vertical-align: top;\n",
              "    }\n",
              "\n",
              "    .dataframe thead th {\n",
              "        text-align: right;\n",
              "    }\n",
              "</style>\n",
              "<table border=\"1\" class=\"dataframe\">\n",
              "  <thead>\n",
              "    <tr style=\"text-align: right;\">\n",
              "      <th></th>\n",
              "      <th>id</th>\n",
              "      <th>Umur</th>\n",
              "      <th>SIM</th>\n",
              "      <th>Kode_Daerah</th>\n",
              "      <th>Sudah_Asuransi</th>\n",
              "      <th>Premi</th>\n",
              "      <th>Kanal_Penjualan</th>\n",
              "      <th>Lama_Berlangganan</th>\n",
              "      <th>Tertarik</th>\n",
              "    </tr>\n",
              "  </thead>\n",
              "  <tbody>\n",
              "    <tr>\n",
              "      <th>count</th>\n",
              "      <td>285831.000000</td>\n",
              "      <td>285831.000000</td>\n",
              "      <td>285831.000000</td>\n",
              "      <td>285831.000000</td>\n",
              "      <td>285831.000000</td>\n",
              "      <td>285831.000000</td>\n",
              "      <td>285831.000000</td>\n",
              "      <td>285831.000000</td>\n",
              "      <td>285831.000000</td>\n",
              "    </tr>\n",
              "    <tr>\n",
              "      <th>mean</th>\n",
              "      <td>142916.000000</td>\n",
              "      <td>38.106147</td>\n",
              "      <td>0.947563</td>\n",
              "      <td>26.485220</td>\n",
              "      <td>0.435939</td>\n",
              "      <td>29114.260881</td>\n",
              "      <td>114.021530</td>\n",
              "      <td>154.468095</td>\n",
              "      <td>0.122471</td>\n",
              "    </tr>\n",
              "    <tr>\n",
              "      <th>std</th>\n",
              "      <td>82512.446734</td>\n",
              "      <td>15.471865</td>\n",
              "      <td>0.222906</td>\n",
              "      <td>12.921482</td>\n",
              "      <td>0.495880</td>\n",
              "      <td>17803.527017</td>\n",
              "      <td>53.543345</td>\n",
              "      <td>81.624617</td>\n",
              "      <td>0.327830</td>\n",
              "    </tr>\n",
              "    <tr>\n",
              "      <th>min</th>\n",
              "      <td>1.000000</td>\n",
              "      <td>20.000000</td>\n",
              "      <td>0.000000</td>\n",
              "      <td>0.000000</td>\n",
              "      <td>0.000000</td>\n",
              "      <td>2630.000000</td>\n",
              "      <td>1.000000</td>\n",
              "      <td>10.000000</td>\n",
              "      <td>0.000000</td>\n",
              "    </tr>\n",
              "    <tr>\n",
              "      <th>25%</th>\n",
              "      <td>71458.500000</td>\n",
              "      <td>24.000000</td>\n",
              "      <td>1.000000</td>\n",
              "      <td>15.000000</td>\n",
              "      <td>0.000000</td>\n",
              "      <td>22311.000000</td>\n",
              "      <td>55.000000</td>\n",
              "      <td>85.000000</td>\n",
              "      <td>0.000000</td>\n",
              "    </tr>\n",
              "    <tr>\n",
              "      <th>50%</th>\n",
              "      <td>142916.000000</td>\n",
              "      <td>34.000000</td>\n",
              "      <td>1.000000</td>\n",
              "      <td>28.000000</td>\n",
              "      <td>0.000000</td>\n",
              "      <td>30949.000000</td>\n",
              "      <td>152.000000</td>\n",
              "      <td>158.000000</td>\n",
              "      <td>0.000000</td>\n",
              "    </tr>\n",
              "    <tr>\n",
              "      <th>75%</th>\n",
              "      <td>214373.500000</td>\n",
              "      <td>49.000000</td>\n",
              "      <td>1.000000</td>\n",
              "      <td>35.000000</td>\n",
              "      <td>1.000000</td>\n",
              "      <td>38845.000000</td>\n",
              "      <td>152.000000</td>\n",
              "      <td>223.000000</td>\n",
              "      <td>0.000000</td>\n",
              "    </tr>\n",
              "    <tr>\n",
              "      <th>max</th>\n",
              "      <td>285831.000000</td>\n",
              "      <td>85.000000</td>\n",
              "      <td>1.000000</td>\n",
              "      <td>52.000000</td>\n",
              "      <td>1.000000</td>\n",
              "      <td>540165.000000</td>\n",
              "      <td>163.000000</td>\n",
              "      <td>299.000000</td>\n",
              "      <td>1.000000</td>\n",
              "    </tr>\n",
              "  </tbody>\n",
              "</table>\n",
              "</div>"
            ],
            "text/plain": [
              "                  id           Umur  ...  Lama_Berlangganan       Tertarik\n",
              "count  285831.000000  285831.000000  ...      285831.000000  285831.000000\n",
              "mean   142916.000000      38.106147  ...         154.468095       0.122471\n",
              "std     82512.446734      15.471865  ...          81.624617       0.327830\n",
              "min         1.000000      20.000000  ...          10.000000       0.000000\n",
              "25%     71458.500000      24.000000  ...          85.000000       0.000000\n",
              "50%    142916.000000      34.000000  ...         158.000000       0.000000\n",
              "75%    214373.500000      49.000000  ...         223.000000       0.000000\n",
              "max    285831.000000      85.000000  ...         299.000000       1.000000\n",
              "\n",
              "[8 rows x 9 columns]"
            ]
          },
          "metadata": {},
          "execution_count": 16
        }
      ]
    },
    {
      "cell_type": "markdown",
      "metadata": {
        "id": "7RTIwUmYXDc0"
      },
      "source": [
        "Dari data diatas, terlihat bahwa data max pada kolom \"Premi\" selisihnya sangat jauh dibanding dengan data 75% atau Q3 sehingga kemungkinan terdapat data outlier pada kolom \"Premi\".\n",
        "<br>\n",
        "Untuk melihat apakah ada data outlier, kita akan menggunakan boxplot"
      ]
    },
    {
      "cell_type": "code",
      "metadata": {
        "colab": {
          "base_uri": "https://localhost:8080/",
          "height": 390
        },
        "id": "IPN7Jn6GXway",
        "outputId": "83ab68bf-05ba-4832-fc69-ff41354ccab3"
      },
      "source": [
        "import matplotlib.pyplot as plt\n",
        "\n",
        "plt.figure(figsize=(8,6))\n",
        "\n",
        "plt.boxplot(df[\"Premi\"])\n",
        "plt.title(\"Premi\")\n",
        "\n",
        "plt.show()"
      ],
      "execution_count": 17,
      "outputs": [
        {
          "output_type": "display_data",
          "data": {
            "image/png": "[encoded data removed]",
            "text/plain": [
              "<Figure size 576x432 with 1 Axes>"
            ]
          },
          "metadata": {
            "needs_background": "light"
          }
        }
      ]
    },
    {
      "cell_type": "markdown",
      "metadata": {
        "id": "yWmbVQ8kYoJ_"
      },
      "source": [
        "Dari boxplot diatas, data \"Premi\" terdapat outlier sehingga kita perlu menghapus data outlier tersebut"
      ]
    },
    {
      "cell_type": "code",
      "metadata": {
        "id": "PdH6RTjpY8VI"
      },
      "source": [
        "def hapus_outlier(df,column):\n",
        "    Q1 = df[column].quantile(0.25)\n",
        "    Q3 = df[column].quantile(0.75)\n",
        "    \n",
        "    IQR = Q3 - Q1\n",
        "    \n",
        "    UPPER = Q3 + 1.5*IQR\n",
        "    LOWER = Q1 - 1.5*IQR\n",
        "\n",
        "    df = df[(df[\"Premi\"] >= LOWER) & (df[\"Premi\"] <= UPPER)]\n",
        "    \n",
        "    return df"
      ],
      "execution_count": 18,
      "outputs": []
    },
    {
      "cell_type": "code",
      "metadata": {
        "id": "iuotjOWGGlox",
        "colab": {
          "base_uri": "https://localhost:8080/",
          "height": 281
        },
        "outputId": "fdfbb071-2298-4c6e-b291-d749e1a521ea"
      },
      "source": [
        "df = hapus_outlier(df,\"Premi\")\n",
        "\n",
        "plt.boxplot(df[\"Premi\"])\n",
        "plt.title(\"Premi\")\n",
        "\n",
        "plt.show()"
      ],
      "execution_count": 19,
      "outputs": [
        {
          "output_type": "display_data",
          "data": {
            "image/png": "[encoded data removed]",
            "text/plain": [
              "<Figure size 432x288 with 1 Axes>"
            ]
          },
          "metadata": {
            "needs_background": "light"
          }
        }
      ]
    },
    {
      "cell_type": "markdown",
      "metadata": {
        "id": "BG8YM2nAGXaq"
      },
      "source": [
        "Seperti yang terlihat di boxplot, data outlier sudah hilang, namun masih ada beberapa data di dekat nilai upper"
      ]
    },
    {
      "cell_type": "markdown",
      "metadata": {
        "id": "uMdSdzJrPFA7"
      },
      "source": [
        "## **Mengubah Data Categorical Menjadi Numerik**"
      ]
    },
    {
      "cell_type": "code",
      "metadata": {
        "colab": {
          "base_uri": "https://localhost:8080/"
        },
        "id": "EUfzZ-CR9u5M",
        "outputId": "a03bcdce-0515-4843-8f78-fac887e1a2f1"
      },
      "source": [
        "df.info()"
      ],
      "execution_count": 20,
      "outputs": [
        {
          "output_type": "stream",
          "name": "stdout",
          "text": [
            "<class 'pandas.core.frame.DataFrame'>\n",
            "Int64Index: 279588 entries, 0 to 285830\n",
            "Data columns (total 12 columns):\n",
            " #   Column             Non-Null Count   Dtype  \n",
            "---  ------             --------------   -----  \n",
            " 0   id                 279588 non-null  int64  \n",
            " 1   Jenis_Kelamin      279588 non-null  object \n",
            " 2   Umur               279588 non-null  float64\n",
            " 3   SIM                279588 non-null  float64\n",
            " 4   Kode_Daerah        279588 non-null  float64\n",
            " 5   Sudah_Asuransi     279588 non-null  float64\n",
            " 6   Umur_Kendaraan     279588 non-null  object \n",
            " 7   Kendaraan_Rusak    279588 non-null  object \n",
            " 8   Premi              279588 non-null  float64\n",
            " 9   Kanal_Penjualan    279588 non-null  float64\n",
            " 10  Lama_Berlangganan  279588 non-null  float64\n",
            " 11  Tertarik           279588 non-null  int64  \n",
            "dtypes: float64(7), int64(2), object(3)\n",
            "memory usage: 27.7+ MB\n"
          ]
        }
      ]
    },
    {
      "cell_type": "markdown",
      "metadata": {
        "id": "ZZSqjMfJf8BN"
      },
      "source": [
        "Dari data diatas terlihat masih ada data yang bertipe object sehingga kita perlu mengubah data tersebut menjadi data numerik agar data bisa diproses <br><br>\n",
        "Disini kita menggunakan metode Label Encoding"
      ]
    },
    {
      "cell_type": "code",
      "metadata": {
        "id": "CYBbyJy_fdqJ"
      },
      "source": [
        "from sklearn.preprocessing import LabelEncoder\n",
        "\n",
        "def ubah_ke_numerik(df,columns=[]):\n",
        "    encode = LabelEncoder()\n",
        "    for col in columns:\n",
        "        df[col] = encode.fit_transform(df[col])\n",
        "    return df"
      ],
      "execution_count": 21,
      "outputs": []
    },
    {
      "cell_type": "code",
      "metadata": {
        "id": "JC5QQekQgj-y",
        "colab": {
          "base_uri": "https://localhost:8080/"
        },
        "outputId": "2d2b927a-b8f8-465c-8100-14f76c2cf48b"
      },
      "source": [
        "columns = [\"Jenis_Kelamin\",\"Umur_Kendaraan\",\"Kendaraan_Rusak\"]\n",
        "df = ubah_ke_numerik(df,columns=columns)"
      ],
      "execution_count": 22,
      "outputs": [
        {
          "output_type": "stream",
          "name": "stderr",
          "text": [
            "/usr/local/lib/python3.7/dist-packages/ipykernel_launcher.py:6: SettingWithCopyWarning: \n",
            "A value is trying to be set on a copy of a slice from a DataFrame.\n",
            "Try using .loc[row_indexer,col_indexer] = value instead\n",
            "\n",
            "See the caveats in the documentation: https://pandas.pydata.org/pandas-docs/stable/user_guide/indexing.html#returning-a-view-versus-a-copy\n",
            "  \n"
          ]
        }
      ]
    },
    {
      "cell_type": "code",
      "metadata": {
        "colab": {
          "base_uri": "https://localhost:8080/"
        },
        "id": "4avZLu9NVJYH",
        "outputId": "b9aee2bf-c064-43ee-f813-a6761b45ecca"
      },
      "source": [
        "df.info()"
      ],
      "execution_count": 23,
      "outputs": [
        {
          "output_type": "stream",
          "name": "stdout",
          "text": [
            "<class 'pandas.core.frame.DataFrame'>\n",
            "Int64Index: 279588 entries, 0 to 285830\n",
            "Data columns (total 12 columns):\n",
            " #   Column             Non-Null Count   Dtype  \n",
            "---  ------             --------------   -----  \n",
            " 0   id                 279588 non-null  int64  \n",
            " 1   Jenis_Kelamin      279588 non-null  int64  \n",
            " 2   Umur               279588 non-null  float64\n",
            " 3   SIM                279588 non-null  float64\n",
            " 4   Kode_Daerah        279588 non-null  float64\n",
            " 5   Sudah_Asuransi     279588 non-null  float64\n",
            " 6   Umur_Kendaraan     279588 non-null  int64  \n",
            " 7   Kendaraan_Rusak    279588 non-null  int64  \n",
            " 8   Premi              279588 non-null  float64\n",
            " 9   Kanal_Penjualan    279588 non-null  float64\n",
            " 10  Lama_Berlangganan  279588 non-null  float64\n",
            " 11  Tertarik           279588 non-null  int64  \n",
            "dtypes: float64(7), int64(5)\n",
            "memory usage: 27.7 MB\n"
          ]
        }
      ]
    },
    {
      "cell_type": "markdown",
      "metadata": {
        "id": "dSxTwYOoVxSw"
      },
      "source": [
        "## **Seleksi Fitur**"
      ]
    },
    {
      "cell_type": "code",
      "metadata": {
        "colab": {
          "base_uri": "https://localhost:8080/",
          "height": 579
        },
        "id": "Nq71QwnU1xxJ",
        "outputId": "d03ad68b-052f-4564-9026-23165d63c68b"
      },
      "source": [
        "import seaborn as sns\n",
        "plt.figure(figsize=(10,8))\n",
        "sns.heatmap(df.corr() ,vmin=-1,vmax=1,annot=True, fmt=\".2f\")\n",
        "plt.show()"
      ],
      "execution_count": 24,
      "outputs": [
        {
          "output_type": "display_data",
          "data": {
            "image/png": "[encoded data removed]",
            "text/plain": [
              "<Figure size 720x576 with 2 Axes>"
            ]
          },
          "metadata": {
            "needs_background": "light"
          }
        }
      ]
    },
    {
      "cell_type": "markdown",
      "metadata": {
        "id": "QmybEmC8SDRA"
      },
      "source": [
        "Dari heatmap diatas, kita akan memilih kolom \"Sudah_Asuransi\" dan \"Kendaraan_Rusak\",serta  \"Umur\" dan \"Kanal_Penjualan\" karena memiliki korelasi yang cukup besar."
      ]
    },
    {
      "cell_type": "code",
      "metadata": {
        "id": "tKwAgkTy18bA"
      },
      "source": [
        "selected_columns = [\"Sudah_Asuransi\",\"Kendaraan_Rusak\",\"Umur\",\"Kanal_Penjualan\"]\n",
        "train = df[selected_columns]\n",
        "label = df[\"Tertarik\"]"
      ],
      "execution_count": 25,
      "outputs": []
    },
    {
      "cell_type": "markdown",
      "metadata": {
        "id": "cpo8T3ua2HJg"
      },
      "source": [
        "# **Clustering**"
      ]
    },
    {
      "cell_type": "markdown",
      "metadata": {
        "id": "I6VNxlIaWgdC"
      },
      "source": [
        "## **Implementasi K-Means**"
      ]
    },
    {
      "cell_type": "code",
      "metadata": {
        "id": "3QFcPg_l2K1I"
      },
      "source": [
        "from collections import defaultdict\n",
        "import numpy as np\n",
        "import random\n",
        "import warnings\n",
        "warnings.filterwarnings('ignore')"
      ],
      "execution_count": 26,
      "outputs": []
    },
    {
      "cell_type": "code",
      "metadata": {
        "id": "cbW5i5Qz2RFf"
      },
      "source": [
        "def kmeans(train,k=2,iteration=100):\n",
        "    #Mengubah data train menjadi array\n",
        "    train = np.array(train)\n",
        "\n",
        "    #untuk mengurangi kemungkinan nilai centroid sama\n",
        "    #maka centroid akan dipilih dari data train yang unik\n",
        "    unique_train = np.unique(train,axis=0)\n",
        "    \n",
        "    #Inisiasi centroid awal dengan mengambil titik secara acak\n",
        "    #pada data train yang unik sejumlah k atau cluster yang diinginkan\n",
        "    centroid = np.array(random.choices(unique_train,k=k))\n",
        "\n",
        "    #Jumlah fitur data\n",
        "    features = train.shape[1]\n",
        "\n",
        "    #Melakukan iterasi\n",
        "    for i in range(iteration):\n",
        "        \n",
        "        #Menghitung nilai jarak antara data train dengan centroid\n",
        "        distance = []\n",
        "        for j in range(k):\n",
        "            euclid = np.linalg.norm(train-centroid[j,:],axis=1)\n",
        "            distance.append(euclid)\n",
        "        \n",
        "        #Menentukan cluster dari data berdasarkan jarak terpendek\n",
        "        #dari data train diantara cluster\n",
        "        min_dist = np.argmin(distance,axis=0)\n",
        "        \n",
        "        #Melakukan grouping dengan memasukkan data train ke dalam cluster\n",
        "        #yang memiliki jarak terpendek antara data train dengan centroid\n",
        "        group = defaultdict(list)\n",
        "        for idx,cluster in enumerate(min_dist):\n",
        "            group[cluster].append(train[idx])\n",
        "        \n",
        "        #Menentukan titik centroid baru dengan menghitung nilai mean\n",
        "        #dari data train yang berada dalam group cluster\n",
        "        new_centroid = []\n",
        "        for j in range(k):\n",
        "            mean = np.mean(group[j],axis=0)\n",
        "            \n",
        "            #Karena ada kemungkinan cluster tidak memiliki anggota\n",
        "            #maka kita perlu mengecek apakah mean bernilai nan atau kosong\n",
        "            #jika mean bernilai nan maka kita menggantinya dengan array\n",
        "            #yang bernilai nan sebanyak jumlah fitur\n",
        "            if np.all(np.isnan(mean)):\n",
        "                mean = np.full((features,),np.nan)\n",
        "            new_centroid.append(mean)\n",
        "        \n",
        "        new_centroid = np.array(new_centroid)\n",
        "        \n",
        "        #Mengecek apakah centroid saat ini sama dengan centroid baru\n",
        "        #jika ternyata benar maka kita dapat menghentikan iterasi\n",
        "        if (np.all(centroid == new_centroid)):\n",
        "            break\n",
        "\n",
        "        #Memasukkan nilai centroid baru ke centroid saat ini\n",
        "        #yang nilai centroid barunya tidak nan atau kosong\n",
        "        for idx in np.argwhere(~np.isnan(new_centroid)):\n",
        "            centroid[idx[0],idx[1]] = new_centroid[idx[0],idx[1]]\n",
        "                \n",
        "        \n",
        "    return centroid"
      ],
      "execution_count": 27,
      "outputs": []
    },
    {
      "cell_type": "markdown",
      "metadata": {
        "id": "lKMPS43G42Gh"
      },
      "source": [
        "## **Clustering Data Train**"
      ]
    },
    {
      "cell_type": "code",
      "metadata": {
        "colab": {
          "base_uri": "https://localhost:8080/"
        },
        "id": "pzsBF1Y0FIs2",
        "outputId": "a08b418e-a702-4575-b34e-73d82ac3ff93"
      },
      "source": [
        "label.unique()"
      ],
      "execution_count": 28,
      "outputs": [
        {
          "output_type": "execute_result",
          "data": {
            "text/plain": [
              "array([0, 1])"
            ]
          },
          "metadata": {},
          "execution_count": 28
        }
      ]
    },
    {
      "cell_type": "markdown",
      "metadata": {
        "id": "qpgbQXuMFHQP"
      },
      "source": [
        "Karena pada dataset kita telah ada label, maka kita akan memanfaatkan label tersebut. Seperti yang terlihat bahwa hanya ada 2 nilai pada label sehingga kita akan menggunakan k=2 pada kmeans"
      ]
    },
    {
      "cell_type": "code",
      "metadata": {
        "colab": {
          "base_uri": "https://localhost:8080/"
        },
        "id": "lNxcFxHq2r3H",
        "outputId": "5ac4281c-4ff4-47ca-9f3b-9d5b0deb8f9b"
      },
      "source": [
        "centroid = kmeans(train,k=2)\n",
        "centroid"
      ],
      "execution_count": 29,
      "outputs": [
        {
          "output_type": "execute_result",
          "data": {
            "text/plain": [
              "array([[  0.4837074 ,   0.56994627,  34.01651067, 144.63599373],\n",
              "       [  0.29910481,   0.37868471,  49.69738493,  25.4496088 ]])"
            ]
          },
          "metadata": {},
          "execution_count": 29
        }
      ]
    },
    {
      "cell_type": "markdown",
      "metadata": {
        "id": "U30YZs0STdoQ"
      },
      "source": [
        "## **Evaluasi Clustering**"
      ]
    },
    {
      "cell_type": "markdown",
      "metadata": {
        "id": "XHvhmkd9EMTZ"
      },
      "source": [
        "Untuk evaluasi clustering ini, apakah jumlah cluster sudah tepat atau belum, kita akan menggunakan Elbow Method"
      ]
    },
    {
      "cell_type": "code",
      "metadata": {
        "id": "No9A9dokwolQ"
      },
      "source": [
        "def wcss(data,centroid,k=2):\n",
        "    distance = []\n",
        "    for i in range(k):\n",
        "        euclid = np.linalg.norm(data-centroid[i,:],axis=1)\n",
        "        distance.append(euclid)\n",
        "    min_dist = np.argmin(distance,axis=0)\n",
        "    \n",
        "    wcss_value = 0\n",
        "    for i,j in enumerate(min_dist):\n",
        "        wcss_value += distance[j][i]**2\n",
        "    return wcss_value"
      ],
      "execution_count": 30,
      "outputs": []
    },
    {
      "cell_type": "code",
      "metadata": {
        "colab": {
          "base_uri": "https://localhost:8080/",
          "height": 295
        },
        "id": "Ugt_HupVw-bI",
        "outputId": "14ef0fd0-169c-48e3-ac0c-b72fa97f5b39"
      },
      "source": [
        "list_wcss = []\n",
        "for i in range(1,6):\n",
        "    c = kmeans(train,k=i)\n",
        "    list_wcss.append(wcss(train,c,k=i))\n",
        "\n",
        "plt.plot(range(1,6),list_wcss)\n",
        "plt.scatter(range(1,6),list_wcss)\n",
        "plt.xticks(range(1,6))\n",
        "plt.xlabel(\"K Cluster\")\n",
        "plt.ylabel(\"WCSS\")\n",
        "plt.title(\"Elbow Method\")\n",
        "plt.show()"
      ],
      "execution_count": 31,
      "outputs": [
        {
          "output_type": "display_data",
          "data": {
            "image/png": "[encoded data removed]",
            "text/plain": [
              "<Figure size 432x288 with 1 Axes>"
            ]
          },
          "metadata": {
            "needs_background": "light"
          }
        }
      ]
    },
    {
      "cell_type": "markdown",
      "metadata": {
        "id": "I5691IF4Huvp"
      },
      "source": [
        "Seperti yang terliihat di grafik, setelah nilai k=2, titik mulai melandai sehingga nilai cluster terbaik adalah 2"
      ]
    },
    {
      "cell_type": "markdown",
      "metadata": {
        "id": "MbNH91gm5BGo"
      },
      "source": [
        "## **Prediksi Data Test**"
      ]
    },
    {
      "cell_type": "markdown",
      "metadata": {
        "id": "lVI48_PeoBXf"
      },
      "source": [
        "### **Memuat Dataset Test**"
      ]
    },
    {
      "cell_type": "code",
      "metadata": {
        "colab": {
          "base_uri": "https://localhost:8080/",
          "height": 417
        },
        "id": "zlRRjNDA5FIY",
        "outputId": "6cc88a57-4cf9-47ff-fd7a-4cc9a93670dc"
      },
      "source": [
        "df_test = pd.read_csv(\"https://github.com/helmy-faishal/tugas-clustering/blob/main/kendaraan_test.csv?raw=true\")\n",
        "df_test"
      ],
      "execution_count": 32,
      "outputs": [
        {
          "output_type": "execute_result",
          "data": {
            "text/html": [
              "<div>\n",
              "<style scoped>\n",
              "    .dataframe tbody tr th:only-of-type {\n",
              "        vertical-align: middle;\n",
              "    }\n",
              "\n",
              "    .dataframe tbody tr th {\n",
              "        vertical-align: top;\n",
              "    }\n",
              "\n",
              "    .dataframe thead th {\n",
              "        text-align: right;\n",
              "    }\n",
              "</style>\n",
              "<table border=\"1\" class=\"dataframe\">\n",
              "  <thead>\n",
              "    <tr style=\"text-align: right;\">\n",
              "      <th></th>\n",
              "      <th>Jenis_Kelamin</th>\n",
              "      <th>Umur</th>\n",
              "      <th>SIM</th>\n",
              "      <th>Kode_Daerah</th>\n",
              "      <th>Sudah_Asuransi</th>\n",
              "      <th>Umur_Kendaraan</th>\n",
              "      <th>Kendaraan_Rusak</th>\n",
              "      <th>Premi</th>\n",
              "      <th>Kanal_Penjualan</th>\n",
              "      <th>Lama_Berlangganan</th>\n",
              "      <th>Tertarik</th>\n",
              "    </tr>\n",
              "  </thead>\n",
              "  <tbody>\n",
              "    <tr>\n",
              "      <th>0</th>\n",
              "      <td>Wanita</td>\n",
              "      <td>49</td>\n",
              "      <td>1</td>\n",
              "      <td>8</td>\n",
              "      <td>0</td>\n",
              "      <td>1-2 Tahun</td>\n",
              "      <td>Pernah</td>\n",
              "      <td>46963</td>\n",
              "      <td>26</td>\n",
              "      <td>145</td>\n",
              "      <td>0</td>\n",
              "    </tr>\n",
              "    <tr>\n",
              "      <th>1</th>\n",
              "      <td>Pria</td>\n",
              "      <td>22</td>\n",
              "      <td>1</td>\n",
              "      <td>47</td>\n",
              "      <td>1</td>\n",
              "      <td>&lt; 1 Tahun</td>\n",
              "      <td>Tidak</td>\n",
              "      <td>39624</td>\n",
              "      <td>152</td>\n",
              "      <td>241</td>\n",
              "      <td>0</td>\n",
              "    </tr>\n",
              "    <tr>\n",
              "      <th>2</th>\n",
              "      <td>Pria</td>\n",
              "      <td>24</td>\n",
              "      <td>1</td>\n",
              "      <td>28</td>\n",
              "      <td>1</td>\n",
              "      <td>&lt; 1 Tahun</td>\n",
              "      <td>Tidak</td>\n",
              "      <td>110479</td>\n",
              "      <td>152</td>\n",
              "      <td>62</td>\n",
              "      <td>0</td>\n",
              "    </tr>\n",
              "    <tr>\n",
              "      <th>3</th>\n",
              "      <td>Pria</td>\n",
              "      <td>46</td>\n",
              "      <td>1</td>\n",
              "      <td>8</td>\n",
              "      <td>1</td>\n",
              "      <td>1-2 Tahun</td>\n",
              "      <td>Tidak</td>\n",
              "      <td>36266</td>\n",
              "      <td>124</td>\n",
              "      <td>34</td>\n",
              "      <td>0</td>\n",
              "    </tr>\n",
              "    <tr>\n",
              "      <th>4</th>\n",
              "      <td>Pria</td>\n",
              "      <td>35</td>\n",
              "      <td>1</td>\n",
              "      <td>23</td>\n",
              "      <td>0</td>\n",
              "      <td>1-2 Tahun</td>\n",
              "      <td>Pernah</td>\n",
              "      <td>26963</td>\n",
              "      <td>152</td>\n",
              "      <td>229</td>\n",
              "      <td>0</td>\n",
              "    </tr>\n",
              "    <tr>\n",
              "      <th>...</th>\n",
              "      <td>...</td>\n",
              "      <td>...</td>\n",
              "      <td>...</td>\n",
              "      <td>...</td>\n",
              "      <td>...</td>\n",
              "      <td>...</td>\n",
              "      <td>...</td>\n",
              "      <td>...</td>\n",
              "      <td>...</td>\n",
              "      <td>...</td>\n",
              "      <td>...</td>\n",
              "    </tr>\n",
              "    <tr>\n",
              "      <th>47634</th>\n",
              "      <td>Pria</td>\n",
              "      <td>61</td>\n",
              "      <td>1</td>\n",
              "      <td>46</td>\n",
              "      <td>0</td>\n",
              "      <td>&gt; 2 Tahun</td>\n",
              "      <td>Pernah</td>\n",
              "      <td>31039</td>\n",
              "      <td>124</td>\n",
              "      <td>67</td>\n",
              "      <td>0</td>\n",
              "    </tr>\n",
              "    <tr>\n",
              "      <th>47635</th>\n",
              "      <td>Pria</td>\n",
              "      <td>41</td>\n",
              "      <td>1</td>\n",
              "      <td>15</td>\n",
              "      <td>0</td>\n",
              "      <td>1-2 Tahun</td>\n",
              "      <td>Pernah</td>\n",
              "      <td>2630</td>\n",
              "      <td>157</td>\n",
              "      <td>232</td>\n",
              "      <td>0</td>\n",
              "    </tr>\n",
              "    <tr>\n",
              "      <th>47636</th>\n",
              "      <td>Pria</td>\n",
              "      <td>24</td>\n",
              "      <td>1</td>\n",
              "      <td>29</td>\n",
              "      <td>1</td>\n",
              "      <td>&lt; 1 Tahun</td>\n",
              "      <td>Tidak</td>\n",
              "      <td>33101</td>\n",
              "      <td>152</td>\n",
              "      <td>211</td>\n",
              "      <td>0</td>\n",
              "    </tr>\n",
              "    <tr>\n",
              "      <th>47637</th>\n",
              "      <td>Pria</td>\n",
              "      <td>59</td>\n",
              "      <td>1</td>\n",
              "      <td>30</td>\n",
              "      <td>0</td>\n",
              "      <td>1-2 Tahun</td>\n",
              "      <td>Pernah</td>\n",
              "      <td>37788</td>\n",
              "      <td>26</td>\n",
              "      <td>239</td>\n",
              "      <td>1</td>\n",
              "    </tr>\n",
              "    <tr>\n",
              "      <th>47638</th>\n",
              "      <td>Pria</td>\n",
              "      <td>52</td>\n",
              "      <td>1</td>\n",
              "      <td>31</td>\n",
              "      <td>0</td>\n",
              "      <td>1-2 Tahun</td>\n",
              "      <td>Tidak</td>\n",
              "      <td>2630</td>\n",
              "      <td>124</td>\n",
              "      <td>170</td>\n",
              "      <td>0</td>\n",
              "    </tr>\n",
              "  </tbody>\n",
              "</table>\n",
              "<p>47639 rows × 11 columns</p>\n",
              "</div>"
            ],
            "text/plain": [
              "      Jenis_Kelamin  Umur  SIM  ...  Kanal_Penjualan  Lama_Berlangganan Tertarik\n",
              "0            Wanita    49    1  ...               26                145        0\n",
              "1              Pria    22    1  ...              152                241        0\n",
              "2              Pria    24    1  ...              152                 62        0\n",
              "3              Pria    46    1  ...              124                 34        0\n",
              "4              Pria    35    1  ...              152                229        0\n",
              "...             ...   ...  ...  ...              ...                ...      ...\n",
              "47634          Pria    61    1  ...              124                 67        0\n",
              "47635          Pria    41    1  ...              157                232        0\n",
              "47636          Pria    24    1  ...              152                211        0\n",
              "47637          Pria    59    1  ...               26                239        1\n",
              "47638          Pria    52    1  ...              124                170        0\n",
              "\n",
              "[47639 rows x 11 columns]"
            ]
          },
          "metadata": {},
          "execution_count": 32
        }
      ]
    },
    {
      "cell_type": "markdown",
      "metadata": {
        "id": "_whduiRJvPZI"
      },
      "source": [
        "### **Pra-pemrosesan Data Test**"
      ]
    },
    {
      "cell_type": "code",
      "metadata": {
        "colab": {
          "base_uri": "https://localhost:8080/"
        },
        "id": "ouEBII635Q2f",
        "outputId": "4ced5987-b25a-4d0e-b90b-f93ba806111f"
      },
      "source": [
        "df_test.isnull().sum()"
      ],
      "execution_count": 33,
      "outputs": [
        {
          "output_type": "execute_result",
          "data": {
            "text/plain": [
              "Jenis_Kelamin        0\n",
              "Umur                 0\n",
              "SIM                  0\n",
              "Kode_Daerah          0\n",
              "Sudah_Asuransi       0\n",
              "Umur_Kendaraan       0\n",
              "Kendaraan_Rusak      0\n",
              "Premi                0\n",
              "Kanal_Penjualan      0\n",
              "Lama_Berlangganan    0\n",
              "Tertarik             0\n",
              "dtype: int64"
            ]
          },
          "metadata": {},
          "execution_count": 33
        }
      ]
    },
    {
      "cell_type": "code",
      "metadata": {
        "id": "imgbsS4p5mE5"
      },
      "source": [
        "columns = [\"Jenis_Kelamin\",\"Umur_Kendaraan\",\"Kendaraan_Rusak\"]\n",
        "df_test = ubah_ke_numerik(df_test,columns=columns)"
      ],
      "execution_count": 34,
      "outputs": []
    },
    {
      "cell_type": "code",
      "metadata": {
        "id": "9mXVdqTj5VA3"
      },
      "source": [
        "data_test = df_test[selected_columns]"
      ],
      "execution_count": 35,
      "outputs": []
    },
    {
      "cell_type": "markdown",
      "metadata": {
        "id": "YwyfpMkQoJI-"
      },
      "source": [
        "### **Melakukan Prediksi Data Test**"
      ]
    },
    {
      "cell_type": "code",
      "metadata": {
        "id": "DiQFeMLI2RpJ"
      },
      "source": [
        "def predict(data,centroid):\n",
        "    k = centroid.shape[0]\n",
        "    distance = []\n",
        "    for i in range(k):\n",
        "        euclid = np.linalg.norm(data-centroid[i,:],axis=1)\n",
        "        distance.append(euclid)\n",
        "    return np.argmin(distance,axis=0)"
      ],
      "execution_count": 36,
      "outputs": []
    },
    {
      "cell_type": "code",
      "metadata": {
        "id": "uf1rwgA350NH"
      },
      "source": [
        "pred_test = predict(data_test,centroid)"
      ],
      "execution_count": 37,
      "outputs": []
    },
    {
      "cell_type": "code",
      "metadata": {
        "colab": {
          "base_uri": "https://localhost:8080/"
        },
        "id": "1lsVTqbp6DhJ",
        "outputId": "50494abf-04d3-458e-cae0-6eba9ca4e694"
      },
      "source": [
        "from collections import Counter\n",
        "\n",
        "Counter(pred_test)"
      ],
      "execution_count": 38,
      "outputs": [
        {
          "output_type": "execute_result",
          "data": {
            "text/plain": [
              "Counter({0: 34839, 1: 12800})"
            ]
          },
          "metadata": {},
          "execution_count": 38
        }
      ]
    }
  ]
}